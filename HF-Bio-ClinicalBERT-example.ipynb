{
 "cells": [
  {
   "cell_type": "code",
   "execution_count": null,
   "metadata": {},
   "outputs": [],
   "source": [
    "\"\"\"\n",
    "This is an example of integrating the Hugging Face Transformers library with ipywidgets to create an interactive\n",
    "interface for analyzing health data using a pre-trained clinical BERT model. This is to\n",
    "give a demonstration of how to use the Hugging Face Transformers library in a Jupyter Notebook environment.\n",
    "\n",
    "This template could be used to integrate with other publicly available models or custom models for various NLP\n",
    "tasks using the BERT transformers in the Clinical or HealthCare domain.\n",
    "\n",
    "\"\"\""
   ]
  },
  {
   "cell_type": "code",
   "execution_count": null,
   "metadata": {},
   "outputs": [],
   "source": [
    "#!pip install transformers torch ipywidgets\n",
    "!pip install --upgrade --force-reinstall torch transformers scikit-learn numpy"
   ]
  },
  {
   "cell_type": "code",
   "execution_count": null,
   "metadata": {},
   "outputs": [],
   "source": [
    "!pip install --force-reinstall ipywidgets\n",
    "!pip install jupyterlab_widgets\n",
    "\n"
   ]
  },
  {
   "cell_type": "code",
   "execution_count": null,
   "metadata": {},
   "outputs": [],
   "source": [
    "from transformers import AutoTokenizer, AutoModelForSequenceClassification, pipeline\n",
    "import ipywidgets as widgets\n",
    "from IPython.display import display, clear_output"
   ]
  },
  {
   "cell_type": "code",
   "execution_count": null,
   "metadata": {},
   "outputs": [],
   "source": [
    "# Using a publicly available clinical model\n",
    "model_name = \"emilyalsentzer/Bio_ClinicalBERT\"\n",
    "tokenizer = AutoTokenizer.from_pretrained(model_name)\n",
    "model = AutoModelForSequenceClassification.from_pretrained(model_name)\n",
    "health_monitor = pipeline(\"text-classification\", model=model, tokenizer=tokenizer)"
   ]
  },
  {
   "cell_type": "code",
   "execution_count": null,
   "metadata": {},
   "outputs": [],
   "source": [
    "# Broad Disease Mapping\n",
    "broad_disease_mapping = {\n",
    "    \"LABEL_0\": \"No significant condition\",\n",
    "    \"LABEL_1\": \"Cardiovascular Diseases (e.g., hypertension, heart disease)\",\n",
    "    \"LABEL_2\": \"Metabolic and Endocrine Disorders (e.g., diabetes, thyroid issues)\",\n",
    "    \"LABEL_3\": \"Respiratory Diseases (e.g., asthma, COPD)\",\n",
    "    \"LABEL_4\": \"Neurological Conditions (e.g., stroke, epilepsy)\",\n",
    "    \"LABEL_5\": \"Infectious Diseases (e.g., influenza, COVID-19)\",\n",
    "    \"LABEL_6\": \"Oncological Conditions (e.g., cancers)\",\n",
    "    \"LABEL_7\": \"Gastrointestinal Disorders (e.g., IBS, Crohn’s disease)\",\n",
    "    \"LABEL_8\": \"Musculoskeletal Disorders (e.g., arthritis, osteoporosis)\",\n",
    "    \"LABEL_9\": \"Immunological/Autoimmune Disorders (e.g., lupus, rheumatoid arthritis)\"\n",
    "}"
   ]
  },
  {
   "cell_type": "code",
   "execution_count": null,
   "metadata": {},
   "outputs": [],
   "source": [
    "# Function to Analyze Health Data\n",
    "def analyze_health_data(input_text):\n",
    "    prediction = health_monitor(input_text)[0]\n",
    "    disease_prediction = broad_disease_mapping.get(prediction[\"label\"], \"Unknown Condition\")\n",
    "    output_str = (\n",
    "        f\"Raw Model Output: {prediction}\\n\"\n",
    "        f\"Interpreted Prediction: {disease_prediction}\\n\"\n",
    "        f\"Confidence Score: {prediction['score']*100:.2f}%\"\n",
    "    )\n",
    "    return output_str"
   ]
  },
  {
   "cell_type": "code",
   "execution_count": null,
   "metadata": {},
   "outputs": [],
   "source": [
    "# Interactive Interface Using ipywidgets\n",
    "input_text = widgets.Textarea(\n",
    "    value='Enter patient health data here...',\n",
    "    placeholder='Type the clinical notes or patient report',\n",
    "    description='Health Data:',\n",
    "    disabled=False,\n",
    "    layout=widgets.Layout(width='100%', height='100px')\n",
    ")"
   ]
  },
  {
   "cell_type": "code",
   "execution_count": null,
   "metadata": {},
   "outputs": [],
   "source": [
    "# Button widget to trigger the analysis\n",
    "analyze_button = widgets.Button(\n",
    "    description='Analyze',\n",
    "    disabled=False,\n",
    "    button_style='',  # Options: 'success', 'info', 'warning', 'danger' or ''\n",
    "    tooltip='Click to analyze the health data',\n",
    "    icon='check'\n",
    ")"
   ]
  },
  {
   "cell_type": "code",
   "execution_count": null,
   "metadata": {},
   "outputs": [],
   "source": [
    "# Output widget to display the results\n",
    "output_area = widgets.Output()\n",
    "\n",
    "def on_analyze_button_clicked(b):\n",
    "    with output_area:\n",
    "        clear_output()\n",
    "        input_data = input_text.value\n",
    "        result = analyze_health_data(input_data)\n",
    "        print(result)\n",
    "\n",
    "analyze_button.on_click(on_analyze_button_clicked)\n",
    "\n",
    "display(input_text, analyze_button, output_area)"
   ]
  }
 ],
 "metadata": {
  "kernelspec": {
   "display_name": ".venv",
   "language": "python",
   "name": "python3"
  },
  "language_info": {
   "codemirror_mode": {
    "name": "ipython",
    "version": 3
   },
   "file_extension": ".py",
   "mimetype": "text/x-python",
   "name": "python",
   "nbconvert_exporter": "python",
   "pygments_lexer": "ipython3",
   "version": "3.11.2"
  }
 },
 "nbformat": 4,
 "nbformat_minor": 2
}
